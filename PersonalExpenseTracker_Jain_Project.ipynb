{
 "cells": [
  {
   "cell_type": "code",
   "execution_count": 25,
   "metadata": {},
   "outputs": [],
   "source": [
    "import csv"
   ]
  },
  {
   "cell_type": "code",
   "execution_count": 26,
   "metadata": {},
   "outputs": [],
   "source": [
    "expenses = []"
   ]
  },
  {
   "cell_type": "code",
   "execution_count": 27,
   "metadata": {},
   "outputs": [],
   "source": [
    "def add_expense():\n",
    "    date = input(\"Enter the date: \")\n",
    "    category = input(\"Enter the category: \")\n",
    "    amount = input(\"Enter the amount: \")\n",
    "    description = input(\"Enter the description: \")\n",
    "    expenses.append({\n",
    "        \"date\": date,\n",
    "        \"category\": category,\n",
    "        \"amount\": amount,\n",
    "        \"description\": description\n",
    "    })\n",
    "\n",
    "    print(\"Expense added successfully\")"
   ]
  },
  {
   "cell_type": "code",
   "execution_count": 28,
   "metadata": {},
   "outputs": [],
   "source": [
    "\n",
    "def view_expense():\n",
    "    for expense in expenses:\n",
    "\n",
    "        print(f\"Date: {expense['date']}\")\n",
    "        print(f\"Category: {expense['category']}\")\n",
    "        print(f\"Amount: {expense['amount']}\")\n",
    "        print(f\"Description: {expense['description']}\")"
   ]
  },
  {
   "cell_type": "code",
   "execution_count": 29,
   "metadata": {},
   "outputs": [],
   "source": [
    "\n",
    "def set_budget():\n",
    "    budget = float(input(\"Enter the budget: \"))\n",
    "    return budget\n",
    "\n",
    "def track_budget(budget):\n",
    "    total_expense = sum(expense['amount'] for expense in expenses )\n",
    "    if total_expense > budget:\n",
    "        print(\"You have exceeded your budget by \" + str(total_expense - budget))\n",
    "    else:\n",
    "        print(\"You are within your budget by \" + str(budget - total_expense))"
   ]
  },
  {
   "cell_type": "code",
   "execution_count": 30,
   "metadata": {},
   "outputs": [],
   "source": [
    "\n",
    "\n",
    "def save_expenses():\n",
    "    with open(\"expenses.csv\", \"w\") as file:\n",
    "        writer = csv.DictWriter(file, fieldnames=[\"date\", \"category\", \"amount\", \"description\"])\n",
    "        writer.writeheader()\n",
    "        for expense in expenses:\n",
    "            writer.writerow(expense)\n",
    "\n",
    "def load_expenses():\n",
    "    try : \n",
    "        with open(\"expenses.csv\", \"r\") as file:\n",
    "            reader = csv.DictReader(file)\n",
    "            for row in reader:\n",
    "                expenses.append(row)\n",
    "    except FileNotFoundError:\n",
    "        print(\"No expenses found\")\n"
   ]
  },
  {
   "cell_type": "code",
   "execution_count": 31,
   "metadata": {},
   "outputs": [],
   "source": [
    "\n",
    "def interactive_menu():\n",
    "    load_expenses()\n",
    "    budget = set_budget()\n",
    "\n",
    "    while True:\n",
    "\n",
    "        print(\"1. Add an expense\")\n",
    "        print(\"2. View expenses\")\n",
    "        print(\"3. Track budget\")\n",
    "        print(\"4. Save expenses\")\n",
    "        print(\"5. Exit\")\n",
    "\n",
    "        choice = input(\"Enter your choice: \")\n",
    "        if choice == \"1\":\n",
    "            add_expense()\n",
    "        elif choice == \"2\":\n",
    "            view_expense()\n",
    "        elif choice == \"3\":\n",
    "            track_budget(budget)\n",
    "        elif choice == \"4\":\n",
    "            save_expenses()\n",
    "            print(\"Exiting the program\")\n",
    "        elif choice == \"5\":\n",
    "            break\n",
    "        else:\n",
    "            print(\"Invalid choice\")\n"
   ]
  },
  {
   "cell_type": "code",
   "execution_count": 36,
   "metadata": {},
   "outputs": [
    {
     "ename": "ValueError",
     "evalue": "could not convert string to float: ''",
     "output_type": "error",
     "traceback": [
      "\u001b[0;31m---------------------------------------------------------------------------\u001b[0m",
      "\u001b[0;31mValueError\u001b[0m                                Traceback (most recent call last)",
      "Cell \u001b[0;32mIn[36], line 1\u001b[0m\n\u001b[0;32m----> 1\u001b[0m interactive_menu()\n",
      "Cell \u001b[0;32mIn[31], line 3\u001b[0m, in \u001b[0;36minteractive_menu\u001b[0;34m()\u001b[0m\n\u001b[1;32m      1\u001b[0m \u001b[38;5;28;01mdef\u001b[39;00m \u001b[38;5;21minteractive_menu\u001b[39m():\n\u001b[1;32m      2\u001b[0m     load_expenses()\n\u001b[0;32m----> 3\u001b[0m     budget \u001b[38;5;241m=\u001b[39m set_budget()\n\u001b[1;32m      5\u001b[0m     \u001b[38;5;28;01mwhile\u001b[39;00m \u001b[38;5;28;01mTrue\u001b[39;00m:\n\u001b[1;32m      7\u001b[0m         \u001b[38;5;28mprint\u001b[39m(\u001b[38;5;124m\"\u001b[39m\u001b[38;5;124m1. Add an expense\u001b[39m\u001b[38;5;124m\"\u001b[39m)\n",
      "Cell \u001b[0;32mIn[29], line 2\u001b[0m, in \u001b[0;36mset_budget\u001b[0;34m()\u001b[0m\n\u001b[1;32m      1\u001b[0m \u001b[38;5;28;01mdef\u001b[39;00m \u001b[38;5;21mset_budget\u001b[39m():\n\u001b[0;32m----> 2\u001b[0m     budget \u001b[38;5;241m=\u001b[39m \u001b[38;5;28mfloat\u001b[39m(\u001b[38;5;28minput\u001b[39m(\u001b[38;5;124m\"\u001b[39m\u001b[38;5;124mEnter the budget: \u001b[39m\u001b[38;5;124m\"\u001b[39m))\n\u001b[1;32m      3\u001b[0m     \u001b[38;5;28;01mreturn\u001b[39;00m budget\n",
      "\u001b[0;31mValueError\u001b[0m: could not convert string to float: ''"
     ]
    }
   ],
   "source": [
    "interactive_menu()\n"
   ]
  }
 ],
 "metadata": {
  "kernelspec": {
   "display_name": "base",
   "language": "python",
   "name": "python3"
  },
  "language_info": {
   "codemirror_mode": {
    "name": "ipython",
    "version": 3
   },
   "file_extension": ".py",
   "mimetype": "text/x-python",
   "name": "python",
   "nbconvert_exporter": "python",
   "pygments_lexer": "ipython3",
   "version": "3.11.8"
  }
 },
 "nbformat": 4,
 "nbformat_minor": 2
}
