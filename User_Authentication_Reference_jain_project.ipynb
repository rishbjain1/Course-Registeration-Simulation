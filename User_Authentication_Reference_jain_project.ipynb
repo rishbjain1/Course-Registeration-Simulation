{
 "cells": [
  {
   "cell_type": "code",
   "execution_count": 12,
   "id": "61824124-c05d-447b-a6f5-55ae24b4d3db",
   "metadata": {},
   "outputs": [],
   "source": [
    "import csv\n",
    "\n",
    "# User authentication functions"
   ]
  },
  {
   "cell_type": "code",
   "execution_count": 13,
   "id": "e582c68c-c3af-48a6-b3e0-da1969491ff4",
   "metadata": {},
   "outputs": [],
   "source": [
    "def load_users(filename=\"users.csv\"):\n",
    "    # Load existing user credentials from a CSV file.\n",
    "    # Returns a dictionary where usernames are keys and hashed passwords are values.\n",
    "    try:\n",
    "        with open(filename, 'r') as file:\n",
    "            users = {row[0]: row[1] for row in csv.reader(file)}\n",
    "            return users\n",
    "    except FileNotFoundError:\n",
    "        # If the file doesn't exist, return an empty dictionary.\n",
    "        return {}"
   ]
  },
  {
   "cell_type": "code",
   "execution_count": 14,
   "id": "63be6dff-51bc-46a1-a681-f622b1b60e72",
   "metadata": {},
   "outputs": [],
   "source": [
    "def save_users(users, filename=\"users.csv\"):\n",
    "    # Save user credentials to a CSV file. Each row contains a username and a hashed password.\n",
    "    with open(filename, 'w', newline='') as file:\n",
    "        writer = csv.writer(file)\n",
    "        for user, password in users.items():\n",
    "            writer.writerow([user, password])"
   ]
  },
  {
   "cell_type": "code",
   "execution_count": 15,
   "id": "52da2d4c-5b99-4dfe-ac4a-172626b09e2d",
   "metadata": {},
   "outputs": [],
   "source": [
    "def register_user(users, username, password):\n",
    "    # Register a new user with a unique username and a hashed password.\n",
    "    # Returns True if registration is successful, False if the username already exists.\n",
    "    if username in users:\n",
    "        return False\n",
    "    users[username] = password\n",
    "    save_users(users)\n",
    "    return True"
   ]
  },
  {
   "cell_type": "code",
   "execution_count": 16,
   "id": "a0bf02f2-8de7-4577-a3bb-f88cde7eb869",
   "metadata": {},
   "outputs": [],
   "source": [
    "def authenticate(users, username, password):\n",
    "    # Verify a user's login credentials.\n",
    "    # Returns True if the username and password match the stored credentials, otherwise False.\n",
    "    return users.get(username) == password"
   ]
  },
  {
   "cell_type": "code",
   "execution_count": 17,
   "id": "caab12a4-739c-4916-862f-6280be5f8f8a",
   "metadata": {},
   "outputs": [],
   "source": [
    "# Task management functions\n",
    "def load_tasks(filename=\"tasks.csv\"):\n",
    "    # Load tasks from a CSV file.\n",
    "    # Returns a list of dictionaries, each representing a task with 'id', 'user', 'description', and 'status'.\n",
    "    try:\n",
    "        with open(filename, 'r') as file:\n",
    "            tasks = list(csv.DictReader(file))\n",
    "            return tasks\n",
    "    except FileNotFoundError:\n",
    "        # If the file doesn't exist, return an empty list.\n",
    "        return []\n"
   ]
  },
  {
   "cell_type": "code",
   "execution_count": 18,
   "id": "be1a7058-07b2-4c59-bb6c-d15c18b0138b",
   "metadata": {},
   "outputs": [],
   "source": [
    "def save_tasks(tasks, filename=\"tasks.csv\"):\n",
    "    # Save tasks to a CSV file. Each task is stored with its 'id', 'user', 'description', and 'status'.\n",
    "    with open(filename, 'w', newline='') as file:\n",
    "        fieldnames = ['id', 'user', 'description', 'status']\n",
    "        writer = csv.DictWriter(file, fieldnames=fieldnames)\n",
    "        writer.writeheader()\n",
    "        writer.writerows(tasks)"
   ]
  },
  {
   "cell_type": "code",
   "execution_count": 19,
   "id": "c222c779-b3a7-4cd8-9019-5994b35719b7",
   "metadata": {},
   "outputs": [],
   "source": [
    "\n",
    "def add_task(tasks, user, description):\n",
    "    # Add a new task for a specific user.\n",
    "    # Each task has a unique ID, the user's name, a description, and an initial status of 'Pending'.\n",
    "    task_id = str(len(tasks) + 1)\n",
    "    tasks.append({'id': task_id, 'user': user, 'description': description, 'status': 'Pending'})\n",
    "    save_tasks(tasks)"
   ]
  },
  {
   "cell_type": "code",
   "execution_count": 20,
   "id": "85e1c666-2b1d-42a2-9171-61cdf895780e",
   "metadata": {},
   "outputs": [],
   "source": [
    "def main_menu():\n",
    "    # Main menu for user registration, login, or exit.\n",
    "    users = load_users()\n",
    "    tasks = load_tasks()\n",
    "\n",
    "    while True:\n",
    "        print(\"1. Register\")\n",
    "        print(\"2. Login\")\n",
    "        print(\"3. Exit\")\n",
    "        choice = input(\"Choose an option: \")\n",
    "        \n",
    "        if choice == '1':\n",
    "            # User registration process.\n",
    "            username = input(\"Choose a username: \")\n",
    "            password = input(\"Choose a password: \")\n",
    "            if register_user(users, username, password):\n",
    "                print(\"Registration successful.\")\n",
    "            else:\n",
    "                print(\"Username already exists.\")\n",
    "        elif choice == '2':\n",
    "            # User login process.\n",
    "            username = input(\"Enter your username: \")\n",
    "            password = input(\"Enter your password: \")\n",
    "            if authenticate(users, username, password):\n",
    "                print(\"Login successful.\")\n",
    "                user_menu(username, tasks)\n",
    "            else:\n",
    "                print(\"Invalid username or password.\")\n",
    "        elif choice == '3':\n",
    "            # Exit the program.\n",
    "            break"
   ]
  },
  {
   "cell_type": "code",
   "execution_count": 21,
   "id": "bfb506b1-fcb9-4c58-93cf-48cea2cc030f",
   "metadata": {},
   "outputs": [],
   "source": [
    "def user_menu(username, tasks):\n",
    "    # Sub-menu for a logged-in user to manage their tasks.\n",
    "    while True:\n",
    "        print(\"1. Add Task\")\n",
    "        print(\"2. View Tasks\")\n",
    "        print(\"3. Exit\")\n",
    "        choice = input(\"Enter your choice: \")\n",
    "        \n",
    "        if choice == '1':\n",
    "            # Add a new task.\n",
    "            description = input(\"Enter task description: \")\n",
    "            add_task(tasks, username, description)\n",
    "            print(\"Task added.\")\n",
    "        elif choice == '2':\n",
    "            # Display all tasks for the logged-in user.\n",
    "            print(\"Your tasks:\")\n",
    "            for task in tasks:\n",
    "                if task['user'] == username:\n",
    "                    print(f\"ID: {task['id']}, Description: {task['description']}, Status: {task['status']}\")\n",
    "        elif choice == '3':\n",
    "            # Exit the user menu.\n",
    "            break"
   ]
  },
  {
   "cell_type": "code",
   "execution_count": 22,
   "id": "99f69cfe-7c08-4acc-9e18-700fda81de6b",
   "metadata": {},
   "outputs": [
    {
     "name": "stdout",
     "output_type": "stream",
     "text": [
      "1. Register\n",
      "2. Login\n",
      "3. Exit\n"
     ]
    },
    {
     "name": "stdin",
     "output_type": "stream",
     "text": [
      "Choose an option:  3\n"
     ]
    }
   ],
   "source": [
    "if __name__ == \"__main__\":\n",
    "    main_menu()"
   ]
  },
  {
   "cell_type": "code",
   "execution_count": null,
   "id": "1e9e33a5-a14e-4936-aa4b-59007d0ccac6",
   "metadata": {},
   "outputs": [],
   "source": []
  }
 ],
 "metadata": {
  "kernelspec": {
   "display_name": "Python 3 (ipykernel)",
   "language": "python",
   "name": "python3"
  },
  "language_info": {
   "codemirror_mode": {
    "name": "ipython",
    "version": 3
   },
   "file_extension": ".py",
   "mimetype": "text/x-python",
   "name": "python",
   "nbconvert_exporter": "python",
   "pygments_lexer": "ipython3",
   "version": "3.10.4"
  }
 },
 "nbformat": 4,
 "nbformat_minor": 5
}
